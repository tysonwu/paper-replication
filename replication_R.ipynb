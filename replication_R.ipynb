{
 "cells": [
  {
   "cell_type": "markdown",
   "metadata": {},
   "source": [
    "# Risks and Returns of Cryptocurrency\n",
    "\n",
    "## Introduction\n",
    "Inspired by the paper ‘Risks and Returns of Cryptocurrency’ by Liu and Tsyvinski (2018) and motivated by the fulfilment of FINA4359 final project, this project replicates some of the results from the original paper, as well as extending the results to a few more cryptocurrencies in the market. The methodologies used are same as in the original paper.\n",
    "\n",
    "## Data Collection\n",
    "We focus on the following cryptocurrencies, which are high-ranked in terms of their asset price:\n",
    "\n",
    "- Bitcoin (BTC)\n",
    "- Ethereum (ETH)\n",
    "- XRP (XRP)\n",
    "- Bitcoin Cash (BCH)\n",
    "- Litecoin (LTC)\n",
    "- EOS (EOS)\n",
    "- Stellar (XLM)\n",
    "\n",
    "The price data are collected from Coin Metrics (coinmetrics.io/data-downloads/) and CoinDesk (coindesk.com/data). The data collected is different in collection period as price data of earlier dates (2011-2013) are neither unavailable in the above websites (nor in other free cryptocurrency sites).\n",
    "\n",
    "Data on Twitter mentions are unavailable on the Internet, hence skipped.\n",
    "\n",
    "Data on Bitcoin Wallet users are obtained from Quandl, validated by blockchain.info (quandl.com/data/BCHAIN/MWNUS-Bitcoin-My-Wallet-Number-of-Users).\n",
    "\n",
    "Data on Google searches are obtained from Google (trends.google.com/trends). Popularity of searches are scored in the scale of 1-100 (which might affect the accuracy of the statistical significance as exact search volume is not available)."
   ]
  },
  {
   "cell_type": "markdown",
   "metadata": {},
   "source": [
    "## Loading data"
   ]
  },
  {
   "cell_type": "code",
   "execution_count": 4,
   "metadata": {},
   "outputs": [
    {
     "name": "stderr",
     "output_type": "stream",
     "text": [
      "Loading required package: plotly\n",
      "Loading required package: moments\n"
     ]
    },
    {
     "data": {
      "text/html": [
       "<table>\n",
       "<thead><tr><th scope=col>date</th><th scope=col>AdrActCnt</th><th scope=col>BlkCnt</th><th scope=col>BlkSizeByte</th><th scope=col>BlkSizeMeanByte</th><th scope=col>CapMVRVCur</th><th scope=col>CapMrktCurUSD</th><th scope=col>CapRealUSD</th><th scope=col>DiffMean</th><th scope=col>FeeMeanNtv</th><th scope=col>...</th><th scope=col>TxTfrValAdjUSD</th><th scope=col>TxTfrValMeanNtv</th><th scope=col>TxTfrValMeanUSD</th><th scope=col>TxTfrValMedNtv</th><th scope=col>TxTfrValMedUSD</th><th scope=col>TxTfrValNtv</th><th scope=col>TxTfrValUSD</th><th scope=col>VtyDayRet180d</th><th scope=col>VtyDayRet30d</th><th scope=col>VtyDayRet60d</th></tr></thead>\n",
       "<tbody>\n",
       "\t<tr><td>2019-12-29  </td><td>589993      </td><td>155         </td><td>123298883   </td><td> 795476.7   </td><td>1.326638    </td><td>134006582389</td><td>101012186186</td><td>1.294859e+13</td><td>4.485972e-05</td><td>...         </td><td> 984014811  </td><td>0.5711628   </td><td>4221.794    </td><td>0.00886058  </td><td>65.49367    </td><td>338412.8    </td><td>2501404670  </td><td>0.03592707  </td><td>0.02589801  </td><td>0.02598024  </td></tr>\n",
       "\t<tr><td>2019-12-30  </td><td>735877      </td><td>166         </td><td>158172951   </td><td> 952849.1   </td><td>1.297516    </td><td>131081294266</td><td>101024791088</td><td>1.294859e+13</td><td>4.916644e-05</td><td>...         </td><td>1522979951  </td><td>0.8081538   </td><td>5842.465    </td><td>0.01000000  </td><td>72.29397    </td><td>575770.0    </td><td>4162469832  </td><td>0.03505770  </td><td>0.02581412  </td><td>0.02609036  </td></tr>\n",
       "\t<tr><td>2019-12-31  </td><td>657164      </td><td>145         </td><td>140156350   </td><td> 966595.5   </td><td>1.286819    </td><td>129970082373</td><td>101001097250</td><td>1.294859e+13</td><td>5.077969e-05</td><td>...         </td><td>1285390151  </td><td>0.7224075   </td><td>5177.780    </td><td>0.00990270  </td><td>70.97656    </td><td>458387.0    </td><td>3285440978  </td><td>0.03472844  </td><td>0.02565198  </td><td>0.02602827  </td></tr>\n",
       "\t<tr><td>2020-01-01  </td><td>524360      </td><td>174         </td><td>112460831   </td><td> 646326.6   </td><td>1.287435    </td><td>130044373322</td><td>101010417319</td><td>1.305609e+13</td><td>3.925185e-05</td><td>...         </td><td> 782285952  </td><td>0.5135040   </td><td>3682.148    </td><td>0.00727389  </td><td>52.15839    </td><td>276458.2    </td><td>1982380180  </td><td>0.03471403  </td><td>0.02554663  </td><td>0.02600586  </td></tr>\n",
       "\t<tr><td>2020-01-02  </td><td>671016      </td><td>141         </td><td>141361650   </td><td>1002564.9   </td><td>1.247555    </td><td>125997729471</td><td>100995769232</td><td>1.379878e+13</td><td>4.699995e-05</td><td>...         </td><td>1319195332  </td><td>0.7564904   </td><td>5255.206    </td><td>0.00880000  </td><td>61.13206    </td><td>483377.7    </td><td>3357940293  </td><td>0.03474569  </td><td>0.02616792  </td><td>0.02623675  </td></tr>\n",
       "\t<tr><td>2020-01-03  </td><td>721747      </td><td>169         </td><td>156310666   </td><td> 924915.2   </td><td>1.313285    </td><td>132696546618</td><td>101041684012</td><td>1.379878e+13</td><td>5.140268e-05</td><td>...         </td><td>1983293240  </td><td>1.1096846   </td><td>8117.686    </td><td>0.00999774  </td><td>73.13656    </td><td>787710.7    </td><td>5762347643  </td><td>0.03493378  </td><td>0.02782292  </td><td>0.02701022  </td></tr>\n",
       "</tbody>\n",
       "</table>\n"
      ],
      "text/latex": [
       "\\begin{tabular}{r|llllllllllllllllllllllllllllllllllllllll}\n",
       " date & AdrActCnt & BlkCnt & BlkSizeByte & BlkSizeMeanByte & CapMVRVCur & CapMrktCurUSD & CapRealUSD & DiffMean & FeeMeanNtv & ... & TxTfrValAdjUSD & TxTfrValMeanNtv & TxTfrValMeanUSD & TxTfrValMedNtv & TxTfrValMedUSD & TxTfrValNtv & TxTfrValUSD & VtyDayRet180d & VtyDayRet30d & VtyDayRet60d\\\\\n",
       "\\hline\n",
       "\t 2019-12-29   & 589993       & 155          & 123298883    &  795476.7    & 1.326638     & 134006582389 & 101012186186 & 1.294859e+13 & 4.485972e-05 & ...          &  984014811   & 0.5711628    & 4221.794     & 0.00886058   & 65.49367     & 338412.8     & 2501404670   & 0.03592707   & 0.02589801   & 0.02598024  \\\\\n",
       "\t 2019-12-30   & 735877       & 166          & 158172951    &  952849.1    & 1.297516     & 131081294266 & 101024791088 & 1.294859e+13 & 4.916644e-05 & ...          & 1522979951   & 0.8081538    & 5842.465     & 0.01000000   & 72.29397     & 575770.0     & 4162469832   & 0.03505770   & 0.02581412   & 0.02609036  \\\\\n",
       "\t 2019-12-31   & 657164       & 145          & 140156350    &  966595.5    & 1.286819     & 129970082373 & 101001097250 & 1.294859e+13 & 5.077969e-05 & ...          & 1285390151   & 0.7224075    & 5177.780     & 0.00990270   & 70.97656     & 458387.0     & 3285440978   & 0.03472844   & 0.02565198   & 0.02602827  \\\\\n",
       "\t 2020-01-01   & 524360       & 174          & 112460831    &  646326.6    & 1.287435     & 130044373322 & 101010417319 & 1.305609e+13 & 3.925185e-05 & ...          &  782285952   & 0.5135040    & 3682.148     & 0.00727389   & 52.15839     & 276458.2     & 1982380180   & 0.03471403   & 0.02554663   & 0.02600586  \\\\\n",
       "\t 2020-01-02   & 671016       & 141          & 141361650    & 1002564.9    & 1.247555     & 125997729471 & 100995769232 & 1.379878e+13 & 4.699995e-05 & ...          & 1319195332   & 0.7564904    & 5255.206     & 0.00880000   & 61.13206     & 483377.7     & 3357940293   & 0.03474569   & 0.02616792   & 0.02623675  \\\\\n",
       "\t 2020-01-03   & 721747       & 169          & 156310666    &  924915.2    & 1.313285     & 132696546618 & 101041684012 & 1.379878e+13 & 5.140268e-05 & ...          & 1983293240   & 1.1096846    & 8117.686     & 0.00999774   & 73.13656     & 787710.7     & 5762347643   & 0.03493378   & 0.02782292   & 0.02701022  \\\\\n",
       "\\end{tabular}\n"
      ],
      "text/markdown": [
       "\n",
       "| date | AdrActCnt | BlkCnt | BlkSizeByte | BlkSizeMeanByte | CapMVRVCur | CapMrktCurUSD | CapRealUSD | DiffMean | FeeMeanNtv | ... | TxTfrValAdjUSD | TxTfrValMeanNtv | TxTfrValMeanUSD | TxTfrValMedNtv | TxTfrValMedUSD | TxTfrValNtv | TxTfrValUSD | VtyDayRet180d | VtyDayRet30d | VtyDayRet60d |\n",
       "|---|---|---|---|---|---|---|---|---|---|---|---|---|---|---|---|---|---|---|---|---|\n",
       "| 2019-12-29   | 589993       | 155          | 123298883    |  795476.7    | 1.326638     | 134006582389 | 101012186186 | 1.294859e+13 | 4.485972e-05 | ...          |  984014811   | 0.5711628    | 4221.794     | 0.00886058   | 65.49367     | 338412.8     | 2501404670   | 0.03592707   | 0.02589801   | 0.02598024   |\n",
       "| 2019-12-30   | 735877       | 166          | 158172951    |  952849.1    | 1.297516     | 131081294266 | 101024791088 | 1.294859e+13 | 4.916644e-05 | ...          | 1522979951   | 0.8081538    | 5842.465     | 0.01000000   | 72.29397     | 575770.0     | 4162469832   | 0.03505770   | 0.02581412   | 0.02609036   |\n",
       "| 2019-12-31   | 657164       | 145          | 140156350    |  966595.5    | 1.286819     | 129970082373 | 101001097250 | 1.294859e+13 | 5.077969e-05 | ...          | 1285390151   | 0.7224075    | 5177.780     | 0.00990270   | 70.97656     | 458387.0     | 3285440978   | 0.03472844   | 0.02565198   | 0.02602827   |\n",
       "| 2020-01-01   | 524360       | 174          | 112460831    |  646326.6    | 1.287435     | 130044373322 | 101010417319 | 1.305609e+13 | 3.925185e-05 | ...          |  782285952   | 0.5135040    | 3682.148     | 0.00727389   | 52.15839     | 276458.2     | 1982380180   | 0.03471403   | 0.02554663   | 0.02600586   |\n",
       "| 2020-01-02   | 671016       | 141          | 141361650    | 1002564.9    | 1.247555     | 125997729471 | 100995769232 | 1.379878e+13 | 4.699995e-05 | ...          | 1319195332   | 0.7564904    | 5255.206     | 0.00880000   | 61.13206     | 483377.7     | 3357940293   | 0.03474569   | 0.02616792   | 0.02623675   |\n",
       "| 2020-01-03   | 721747       | 169          | 156310666    |  924915.2    | 1.313285     | 132696546618 | 101041684012 | 1.379878e+13 | 5.140268e-05 | ...          | 1983293240   | 1.1096846    | 8117.686     | 0.00999774   | 73.13656     | 787710.7     | 5762347643   | 0.03493378   | 0.02782292   | 0.02701022   |\n",
       "\n"
      ],
      "text/plain": [
       "  date       AdrActCnt BlkCnt BlkSizeByte BlkSizeMeanByte CapMVRVCur\n",
       "1 2019-12-29 589993    155    123298883    795476.7       1.326638  \n",
       "2 2019-12-30 735877    166    158172951    952849.1       1.297516  \n",
       "3 2019-12-31 657164    145    140156350    966595.5       1.286819  \n",
       "4 2020-01-01 524360    174    112460831    646326.6       1.287435  \n",
       "5 2020-01-02 671016    141    141361650   1002564.9       1.247555  \n",
       "6 2020-01-03 721747    169    156310666    924915.2       1.313285  \n",
       "  CapMrktCurUSD CapRealUSD   DiffMean     FeeMeanNtv   ... TxTfrValAdjUSD\n",
       "1 134006582389  101012186186 1.294859e+13 4.485972e-05 ...  984014811    \n",
       "2 131081294266  101024791088 1.294859e+13 4.916644e-05 ... 1522979951    \n",
       "3 129970082373  101001097250 1.294859e+13 5.077969e-05 ... 1285390151    \n",
       "4 130044373322  101010417319 1.305609e+13 3.925185e-05 ...  782285952    \n",
       "5 125997729471  100995769232 1.379878e+13 4.699995e-05 ... 1319195332    \n",
       "6 132696546618  101041684012 1.379878e+13 5.140268e-05 ... 1983293240    \n",
       "  TxTfrValMeanNtv TxTfrValMeanUSD TxTfrValMedNtv TxTfrValMedUSD TxTfrValNtv\n",
       "1 0.5711628       4221.794        0.00886058     65.49367       338412.8   \n",
       "2 0.8081538       5842.465        0.01000000     72.29397       575770.0   \n",
       "3 0.7224075       5177.780        0.00990270     70.97656       458387.0   \n",
       "4 0.5135040       3682.148        0.00727389     52.15839       276458.2   \n",
       "5 0.7564904       5255.206        0.00880000     61.13206       483377.7   \n",
       "6 1.1096846       8117.686        0.00999774     73.13656       787710.7   \n",
       "  TxTfrValUSD VtyDayRet180d VtyDayRet30d VtyDayRet60d\n",
       "1 2501404670  0.03592707    0.02589801   0.02598024  \n",
       "2 4162469832  0.03505770    0.02581412   0.02609036  \n",
       "3 3285440978  0.03472844    0.02565198   0.02602827  \n",
       "4 1982380180  0.03471403    0.02554663   0.02600586  \n",
       "5 3357940293  0.03474569    0.02616792   0.02623675  \n",
       "6 5762347643  0.03493378    0.02782292   0.02701022  "
      ]
     },
     "metadata": {},
     "output_type": "display_data"
    }
   ],
   "source": [
    "options(warn=-1)\n",
    "\n",
    "require(readr)\n",
    "require(dplyr)\n",
    "require(plotly) # fancy line graphs\n",
    "require(ggplot2)\n",
    "require(lubridate)\n",
    "require(data.table)\n",
    "require(tidyverse)\n",
    "require(scales)\n",
    "require(moments)\n",
    "\n",
    "# cryptocurrencies\n",
    "btc <- read_csv('data/btc.csv', col_types = cols(date = col_date(format = '%Y-%m-%d')))\n",
    "eth <- read_csv('data/eth.csv', col_types = cols(date = col_date(format = '%Y-%m-%d')))\n",
    "xrp <- read_csv('data/xrp.csv', col_types = cols(date = col_date(format = '%Y-%m-%d')))\n",
    "bch <- read_csv('data/bch.csv', col_types = cols(date = col_date(format = '%Y-%m-%d')))\n",
    "ltc <- read_csv('data/ltc.csv', col_types = cols(date = col_date(format = '%Y-%m-%d')))\n",
    "eos <- read_csv('data/eos.csv', col_types = cols(date = col_date(format = '%Y-%m-%d')))\n",
    "xlm <- read_csv('data/xlm.csv', col_types = cols(date = col_date(format = '%Y-%m-%d')))\n",
    "\n",
    "# wallet users\n",
    "wallet <- read_csv(\"data/wallet.csv\", col_types = cols(date = col_date(format = \"%d/%m/%Y\")))\n",
    "\n",
    "# # Google search series\n",
    "# btcsearch <- read_csv(\"data/btcsearch.csv\", col_types = cols(Week = col_date(format = \"%d/%m/%Y\")))\n",
    "# btchacksearch <- read_csv(\"data/btchacksearch.csv\", col_types = cols(Week = col_date(format = \"%d/%m/%Y\")))\n",
    "\n",
    "tail(btc)"
   ]
  },
  {
   "cell_type": "code",
   "execution_count": null,
   "metadata": {},
   "outputs": [],
   "source": []
  }
 ],
 "metadata": {
  "kernelspec": {
   "display_name": "R",
   "language": "R",
   "name": "ir"
  },
  "language_info": {
   "codemirror_mode": "r",
   "file_extension": ".r",
   "mimetype": "text/x-r-source",
   "name": "R",
   "pygments_lexer": "r",
   "version": "3.6.1"
  }
 },
 "nbformat": 4,
 "nbformat_minor": 4
}
