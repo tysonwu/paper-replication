{
 "cells": [
  {
   "cell_type": "markdown",
   "metadata": {},
   "source": [
    "# Risks and Returns of Cryptocurrency\n",
    "\n",
    "## Introduction\n",
    "Inspired by the paper ‘Risks and Returns of Cryptocurrency’ by Liu and Tsyvinski (2018) and motivated by the fulfilment of FINA4359 final project, this project replicates some of the results from the original paper, as well as extending the results to a few more cryptocurrencies in the market. The methodologies used are same as in the original paper.\n",
    "\n",
    "## Data Collection\n",
    "We focus on the following cryptocurrencies, which are high-ranked in terms of their asset price:\n",
    "\n",
    "- Bitcoin (BTC)\n",
    "- Ethereum (ETH)\n",
    "- XRP (XRP)\n",
    "- Bitcoin Cash (BCH)\n",
    "- Litecoin (LTC)\n",
    "- EOS (EOS)\n",
    "- Stellar (XLM)\n",
    "\n",
    "The price data are collected from Coin Metrics (coinmetrics.io/data-downloads/) and CoinDesk (coindesk.com/data). The data collected is different in collection period as price data of earlier dates (2011-2013) are neither unavailable in the above websites (nor in other free cryptocurrency sites).\n",
    "\n",
    "Data on Twitter mentions are unavailable on the Internet, hence skipped.\n",
    "\n",
    "Data on Bitcoin Wallet users are obtained from Quandl, validated by blockchain.info (quandl.com/data/BCHAIN/MWNUS-Bitcoin-My-Wallet-Number-of-Users).\n",
    "\n",
    "Data on Google searches are obtained from Google (trends.google.com/trends). Popularity of searches are scored in the scale of 1-100 (which might affect the accuracy of the statistical significance as exact search volume is not available)."
   ]
  },
  {
   "cell_type": "markdown",
   "metadata": {},
   "source": [
    "## Loading data"
   ]
  },
  {
   "cell_type": "code",
   "execution_count": 3,
   "metadata": {},
   "outputs": [
    {
     "name": "stderr",
     "output_type": "stream",
     "text": [
      "Loading required package: plotly\n",
      "Loading required package: moments\n"
     ]
    },
    {
     "ename": "ERROR",
     "evalue": "Error: 'data/btcsearch.csv' does not exist in current working directory ('/Users/tyson/dev/paper-replication').\n",
     "output_type": "error",
     "traceback": [
      "Error: 'data/btcsearch.csv' does not exist in current working directory ('/Users/tyson/dev/paper-replication').\nTraceback:\n",
      "1. read_csv(\"data/btcsearch.csv\", col_types = cols(Week = col_date(format = \"%d/%m/%Y\")))",
      "2. read_delimited(file, tokenizer, col_names = col_names, col_types = col_types, \n .     locale = locale, skip = skip, skip_empty_rows = skip_empty_rows, \n .     comment = comment, n_max = n_max, guess_max = guess_max, \n .     progress = progress)",
      "3. standardise_path(file)",
      "4. check_path(path)",
      "5. stop(\"'\", path, \"' does not exist\", if (!is_absolute_path(path)) paste0(\" in current working directory ('\", \n .     getwd(), \"')\"), \".\", call. = FALSE)"
     ]
    }
   ],
   "source": [
    "options(warn=-1)\n",
    "\n",
    "require(readr)\n",
    "require(dplyr)\n",
    "require(plotly) # fancy line graphs\n",
    "require(ggplot2)\n",
    "require(lubridate)\n",
    "require(data.table)\n",
    "require(tidyverse)\n",
    "require(scales)\n",
    "require(moments)\n",
    "\n",
    "# cryptocurrencies\n",
    "btc <- read_csv('data/btc.csv', col_types = cols(date = col_date(format = '%Y-%m-%d')))\n",
    "eth <- read_csv('data/eth.csv', col_types = cols(date = col_date(format = '%Y-%m-%d')))\n",
    "xrp <- read_csv('data/xrp.csv', col_types = cols(date = col_date(format = '%Y-%m-%d')))\n",
    "bch <- read_csv('data/bch.csv', col_types = cols(date = col_date(format = '%Y-%m-%d')))\n",
    "ltc <- read_csv('data/ltc.csv', col_types = cols(date = col_date(format = '%Y-%m-%d')))\n",
    "eos <- read_csv('data/eos.csv', col_types = cols(date = col_date(format = '%Y-%m-%d')))\n",
    "xlm <- read_csv('data/xlm.csv', col_types = cols(date = col_date(format = '%Y-%m-%d')))\n",
    "\n",
    "# wallet users\n",
    "wallet <- read_csv(\"data/wallet.csv\", col_types = cols(date = col_date(format = \"%d/%m/%Y\")))\n",
    "\n",
    "# Google search series\n",
    "btcsearch <- read_csv(\"data/btcsearch.csv\", col_types = cols(Week = col_date(format = \"%d/%m/%Y\")))\n",
    "btchacksearch <- read_csv(\"data/btchacksearch.csv\", col_types = cols(Week = col_date(format = \"%d/%m/%Y\")))\n",
    "\n",
    "tail(btc)"
   ]
  },
  {
   "cell_type": "code",
   "execution_count": null,
   "metadata": {},
   "outputs": [],
   "source": []
  }
 ],
 "metadata": {
  "kernelspec": {
   "display_name": "R",
   "language": "R",
   "name": "ir"
  },
  "language_info": {
   "codemirror_mode": "r",
   "file_extension": ".r",
   "mimetype": "text/x-r-source",
   "name": "R",
   "pygments_lexer": "r",
   "version": "3.6.1"
  }
 },
 "nbformat": 4,
 "nbformat_minor": 4
}
